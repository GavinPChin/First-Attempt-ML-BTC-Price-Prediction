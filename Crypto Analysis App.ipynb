{
 "cells": [
  {
   "cell_type": "code",
   "execution_count": 1,
   "id": "190812ad",
   "metadata": {},
   "outputs": [],
   "source": [
    "# This program utilizes a recurrent neural network (Long Short-term Memory) to analyze and predict future\n",
    "\n",
    "# Libraries\n",
    "import math\n",
    "import numpy as np\n",
    "import pandas as pd\n",
    "from matplotlib import pyplot as plt\n",
    "from cryptocmd import CmcScraper\n",
    "from sklearn.preprocessing import MinMaxScaler\n",
    "from keras.models import Sequential\n",
    "from keras.layers import LSTM, Dropout, Dense"
   ]
  },
  {
   "cell_type": "code",
   "execution_count": 2,
   "id": "1b616a18",
   "metadata": {},
   "outputs": [
    {
     "data": {
      "text/html": [
       "<div>\n",
       "<style scoped>\n",
       "    .dataframe tbody tr th:only-of-type {\n",
       "        vertical-align: middle;\n",
       "    }\n",
       "\n",
       "    .dataframe tbody tr th {\n",
       "        vertical-align: top;\n",
       "    }\n",
       "\n",
       "    .dataframe thead th {\n",
       "        text-align: right;\n",
       "    }\n",
       "</style>\n",
       "<table border=\"1\" class=\"dataframe\">\n",
       "  <thead>\n",
       "    <tr style=\"text-align: right;\">\n",
       "      <th></th>\n",
       "      <th>Date</th>\n",
       "      <th>Open</th>\n",
       "      <th>High</th>\n",
       "      <th>Low</th>\n",
       "      <th>Close</th>\n",
       "      <th>Volume</th>\n",
       "      <th>Market Cap</th>\n",
       "    </tr>\n",
       "  </thead>\n",
       "  <tbody>\n",
       "    <tr>\n",
       "      <th>3662</th>\n",
       "      <td>2013-04-28</td>\n",
       "      <td>135.300003</td>\n",
       "      <td>135.979996</td>\n",
       "      <td>132.100006</td>\n",
       "      <td>134.210007</td>\n",
       "      <td>0.000000e+00</td>\n",
       "      <td>1.488567e+09</td>\n",
       "    </tr>\n",
       "    <tr>\n",
       "      <th>3661</th>\n",
       "      <td>2013-04-29</td>\n",
       "      <td>134.444000</td>\n",
       "      <td>147.488007</td>\n",
       "      <td>134.000000</td>\n",
       "      <td>144.539993</td>\n",
       "      <td>0.000000e+00</td>\n",
       "      <td>1.603769e+09</td>\n",
       "    </tr>\n",
       "    <tr>\n",
       "      <th>3660</th>\n",
       "      <td>2013-04-30</td>\n",
       "      <td>144.000000</td>\n",
       "      <td>146.929993</td>\n",
       "      <td>134.050003</td>\n",
       "      <td>139.000000</td>\n",
       "      <td>0.000000e+00</td>\n",
       "      <td>1.542813e+09</td>\n",
       "    </tr>\n",
       "    <tr>\n",
       "      <th>3659</th>\n",
       "      <td>2013-05-01</td>\n",
       "      <td>139.000000</td>\n",
       "      <td>139.889999</td>\n",
       "      <td>107.720001</td>\n",
       "      <td>116.989998</td>\n",
       "      <td>0.000000e+00</td>\n",
       "      <td>1.298955e+09</td>\n",
       "    </tr>\n",
       "    <tr>\n",
       "      <th>3658</th>\n",
       "      <td>2013-05-02</td>\n",
       "      <td>116.379997</td>\n",
       "      <td>125.599998</td>\n",
       "      <td>92.281898</td>\n",
       "      <td>105.209999</td>\n",
       "      <td>0.000000e+00</td>\n",
       "      <td>1.168517e+09</td>\n",
       "    </tr>\n",
       "    <tr>\n",
       "      <th>...</th>\n",
       "      <td>...</td>\n",
       "      <td>...</td>\n",
       "      <td>...</td>\n",
       "      <td>...</td>\n",
       "      <td>...</td>\n",
       "      <td>...</td>\n",
       "      <td>...</td>\n",
       "    </tr>\n",
       "    <tr>\n",
       "      <th>4</th>\n",
       "      <td>2023-05-04</td>\n",
       "      <td>29031.304448</td>\n",
       "      <td>29353.184660</td>\n",
       "      <td>28694.039025</td>\n",
       "      <td>28847.711591</td>\n",
       "      <td>1.554868e+10</td>\n",
       "      <td>5.586172e+11</td>\n",
       "    </tr>\n",
       "    <tr>\n",
       "      <th>3</th>\n",
       "      <td>2023-05-05</td>\n",
       "      <td>28851.479662</td>\n",
       "      <td>29668.907677</td>\n",
       "      <td>28845.510534</td>\n",
       "      <td>29534.384020</td>\n",
       "      <td>1.793657e+10</td>\n",
       "      <td>5.719354e+11</td>\n",
       "    </tr>\n",
       "    <tr>\n",
       "      <th>2</th>\n",
       "      <td>2023-05-06</td>\n",
       "      <td>29538.859005</td>\n",
       "      <td>29820.126622</td>\n",
       "      <td>28468.967410</td>\n",
       "      <td>28904.623949</td>\n",
       "      <td>1.591387e+10</td>\n",
       "      <td>5.597675e+11</td>\n",
       "    </tr>\n",
       "    <tr>\n",
       "      <th>1</th>\n",
       "      <td>2023-05-07</td>\n",
       "      <td>28901.622824</td>\n",
       "      <td>29157.518185</td>\n",
       "      <td>28441.368038</td>\n",
       "      <td>28454.978286</td>\n",
       "      <td>1.130136e+10</td>\n",
       "      <td>5.510833e+11</td>\n",
       "    </tr>\n",
       "    <tr>\n",
       "      <th>0</th>\n",
       "      <td>2023-05-08</td>\n",
       "      <td>28450.457478</td>\n",
       "      <td>28663.272332</td>\n",
       "      <td>27310.135612</td>\n",
       "      <td>27694.272896</td>\n",
       "      <td>1.912290e+10</td>\n",
       "      <td>5.363754e+11</td>\n",
       "    </tr>\n",
       "  </tbody>\n",
       "</table>\n",
       "<p>3663 rows × 7 columns</p>\n",
       "</div>"
      ],
      "text/plain": [
       "           Date          Open          High           Low         Close  \\\n",
       "3662 2013-04-28    135.300003    135.979996    132.100006    134.210007   \n",
       "3661 2013-04-29    134.444000    147.488007    134.000000    144.539993   \n",
       "3660 2013-04-30    144.000000    146.929993    134.050003    139.000000   \n",
       "3659 2013-05-01    139.000000    139.889999    107.720001    116.989998   \n",
       "3658 2013-05-02    116.379997    125.599998     92.281898    105.209999   \n",
       "...         ...           ...           ...           ...           ...   \n",
       "4    2023-05-04  29031.304448  29353.184660  28694.039025  28847.711591   \n",
       "3    2023-05-05  28851.479662  29668.907677  28845.510534  29534.384020   \n",
       "2    2023-05-06  29538.859005  29820.126622  28468.967410  28904.623949   \n",
       "1    2023-05-07  28901.622824  29157.518185  28441.368038  28454.978286   \n",
       "0    2023-05-08  28450.457478  28663.272332  27310.135612  27694.272896   \n",
       "\n",
       "            Volume    Market Cap  \n",
       "3662  0.000000e+00  1.488567e+09  \n",
       "3661  0.000000e+00  1.603769e+09  \n",
       "3660  0.000000e+00  1.542813e+09  \n",
       "3659  0.000000e+00  1.298955e+09  \n",
       "3658  0.000000e+00  1.168517e+09  \n",
       "...            ...           ...  \n",
       "4     1.554868e+10  5.586172e+11  \n",
       "3     1.793657e+10  5.719354e+11  \n",
       "2     1.591387e+10  5.597675e+11  \n",
       "1     1.130136e+10  5.510833e+11  \n",
       "0     1.912290e+10  5.363754e+11  \n",
       "\n",
       "[3663 rows x 7 columns]"
      ]
     },
     "execution_count": 2,
     "metadata": {},
     "output_type": "execute_result"
    }
   ],
   "source": [
    "# Retrieve data from CoinMarketCap\n",
    "\n",
    "crypto = 'BTC'\n",
    "\n",
    "scraper = CmcScraper(crypto)\n",
    "\n",
    "df = scraper.get_dataframe()\n",
    "\n",
    "df = df.iloc[::-1]\n",
    "\n",
    "df"
   ]
  },
  {
   "cell_type": "code",
   "execution_count": 3,
   "id": "01b0e35b",
   "metadata": {},
   "outputs": [
    {
     "data": {
      "image/png": "[encoded data removed]",
      "text/plain": [
       "<Figure size 1008x504 with 1 Axes>"
      ]
     },
     "metadata": {
      "needs_background": "light"
     },
     "output_type": "display_data"
    }
   ],
   "source": [
    "# create a graph of closing prices of select cryptocurrency\n",
    "plt.figure(figsize=(14, 7))\n",
    "plt.title('Closing Price History for ' + crypto)\n",
    "plt.xlabel('Date', fontsize=18)\n",
    "plt.ylabel('Closing Price (USD)', fontsize=18)\n",
    "plt.plot(df['Date'].values, df['Close'].values)\n",
    "plt.show()"
   ]
  },
  {
   "cell_type": "code",
   "execution_count": 4,
   "id": "00798470",
   "metadata": {},
   "outputs": [
    {
     "data": {
      "text/plain": [
       "(2871, 60, 1)"
      ]
     },
     "execution_count": 4,
     "metadata": {},
     "output_type": "execute_result"
    }
   ],
   "source": [
    "# Prepare training data\n",
    "\n",
    "data = df.filter(['Close'])\n",
    "\n",
    "dataset = data.values\n",
    "\n",
    "training_data_len = math.ceil(len(dataset)*0.8)\n",
    "\n",
    "min_max_scaler = MinMaxScaler(feature_range=(0,1))\n",
    "scaled_data = min_max_scaler.fit_transform(dataset)\n",
    "\n",
    "training_data = scaled_data[0:training_data_len, :]\n",
    "\n",
    "prediction_period = 60\n",
    "\n",
    "x_train = []\n",
    "y_train = []\n",
    "\n",
    "for i in range(prediction_period, len(training_data)):\n",
    "    x_train.append(training_data[i-prediction_period:i, 0])\n",
    "    y_train.append(training_data[i, 0])\n",
    "\n",
    "x_train, y_train= np.array(x_train), np.array(y_train)\n",
    "\n",
    "x_train = np.reshape(x_train, (x_train.shape[0], x_train.shape[1], 1))\n",
    "x_train.shape\n"
   ]
  },
  {
   "cell_type": "code",
   "execution_count": 5,
   "id": "adeb6dac",
   "metadata": {},
   "outputs": [
    {
     "data": {
      "text/plain": [
       "(732, 60, 1)"
      ]
     },
     "execution_count": 5,
     "metadata": {},
     "output_type": "execute_result"
    }
   ],
   "source": [
    "# prepare testing data\n",
    "\n",
    "test_data = scaled_data[training_data_len - 60:, :]\n",
    "\n",
    "x_test = []\n",
    "y_test = dataset[training_data_len:, :]\n",
    "\n",
    "for i in range(60, len(test_data)):\n",
    "    x_test.append(test_data[i-60:i, 0])\n",
    "    \n",
    "x_test = np.array(x_test)\n",
    "x_test = np.reshape(x_test, (x_test.shape[0], x_test.shape[1], 1))\n",
    "\n",
    "x_test.shape"
   ]
  },
  {
   "cell_type": "code",
   "execution_count": 6,
   "id": "109938ba",
   "metadata": {},
   "outputs": [],
   "source": [
    "# Create LSTM Model\n",
    "\n",
    "model = Sequential()\n",
    "model.add(LSTM(50, return_sequences=True, input_shape=(x_train.shape[1], 1)))\n",
    "model.add(LSTM(50, return_sequences=False))\n",
    "model.add(Dense(25))\n",
    "model.add(Dense(1))"
   ]
  },
  {
   "cell_type": "code",
   "execution_count": 7,
   "id": "5c6166a3",
   "metadata": {},
   "outputs": [
    {
     "name": "stdout",
     "output_type": "stream",
     "text": [
      "Epoch 1/16\n",
      "90/90 [==============================] - 7s 32ms/step - loss: 0.0019\n",
      "Epoch 2/16\n",
      "90/90 [==============================] - 3s 31ms/step - loss: 4.1846e-04\n",
      "Epoch 3/16\n",
      "90/90 [==============================] - 3s 31ms/step - loss: 3.1361e-04\n",
      "Epoch 4/16\n",
      "90/90 [==============================] - 3s 31ms/step - loss: 3.1163e-04\n",
      "Epoch 5/16\n",
      "90/90 [==============================] - 3s 33ms/step - loss: 3.3343e-04\n",
      "Epoch 6/16\n",
      "90/90 [==============================] - 3s 31ms/step - loss: 2.4897e-04\n",
      "Epoch 7/16\n",
      "90/90 [==============================] - 3s 31ms/step - loss: 2.1502e-04\n",
      "Epoch 8/16\n",
      "90/90 [==============================] - 3s 31ms/step - loss: 2.4263e-04\n",
      "Epoch 9/16\n",
      "90/90 [==============================] - 3s 31ms/step - loss: 1.9988e-04\n",
      "Epoch 10/16\n",
      "90/90 [==============================] - 3s 32ms/step - loss: 1.5563e-04\n",
      "Epoch 11/16\n",
      "90/90 [==============================] - 3s 32ms/step - loss: 1.3898e-04\n",
      "Epoch 12/16\n",
      "90/90 [==============================] - 3s 32ms/step - loss: 1.4970e-04\n",
      "Epoch 13/16\n",
      "90/90 [==============================] - 3s 32ms/step - loss: 1.3698e-04\n",
      "Epoch 14/16\n",
      "90/90 [==============================] - 3s 31ms/step - loss: 1.7440e-04\n",
      "Epoch 15/16\n",
      "90/90 [==============================] - 3s 31ms/step - loss: 1.2481e-04\n",
      "Epoch 16/16\n",
      "90/90 [==============================] - 3s 31ms/step - loss: 1.1162e-04\n"
     ]
    },
    {
     "data": {
      "text/plain": [
       "<keras.callbacks.History at 0x16b5c8f0bb0>"
      ]
     },
     "execution_count": 7,
     "metadata": {},
     "output_type": "execute_result"
    }
   ],
   "source": [
    "# Compile and Train the model\n",
    "\n",
    "model.compile(optimizer='adam', loss='mean_squared_error')\n",
    "model.fit(x_train, y_train, batch_size=32, epochs=16)\n"
   ]
  },
  {
   "cell_type": "code",
   "execution_count": 8,
   "id": "9ebaa63e",
   "metadata": {},
   "outputs": [
    {
     "name": "stdout",
     "output_type": "stream",
     "text": [
      "23/23 [==============================] - 1s 10ms/step\n"
     ]
    }
   ],
   "source": [
    "# Get model predicted values\n",
    "\n",
    "model_predictions = model.predict(x_test)\n",
    "model_predictions = min_max_scaler.inverse_transform(model_predictions)"
   ]
  },
  {
   "cell_type": "code",
   "execution_count": 9,
   "id": "2b3da96d",
   "metadata": {},
   "outputs": [
    {
     "data": {
      "text/plain": [
       "1127.3793006456992"
      ]
     },
     "execution_count": 9,
     "metadata": {},
     "output_type": "execute_result"
    }
   ],
   "source": [
    "# Get root mean squared error\n",
    "\n",
    "testing_score = np.sqrt(np.mean(model_predictions - y_test)**2)\n",
    "testing_score"
   ]
  },
  {
   "cell_type": "code",
   "execution_count": 10,
   "id": "472164cb",
   "metadata": {
    "scrolled": true
   },
   "outputs": [
    {
     "data": {
      "text/plain": [
       "<function matplotlib.pyplot.show(close=None, block=None)>"
      ]
     },
     "execution_count": 10,
     "metadata": {},
     "output_type": "execute_result"
    },
    {
     "data": {
      "image/png": "[encoded data removed]",
      "text/plain": [
       "<Figure size 1008x504 with 1 Axes>"
      ]
     },
     "metadata": {
      "needs_background": "light"
     },
     "output_type": "display_data"
    }
   ],
   "source": [
    "# Plot data\n",
    "\n",
    "training_values = dataset[:training_data_len]\n",
    "test_values = dataset[training_data_len:]\n",
    "\n",
    "# Create graph\n",
    "\n",
    "plt.figure(figsize=(14,7))\n",
    "plt.title(crypto + ' Price Prediction')\n",
    "plt.xlabel('Date', fontsize=18)\n",
    "plt.ylabel('Closing Price (USD)', fontsize=18)\n",
    "plt.plot(df['Date'].values[:training_data_len], training_values)\n",
    "plt.plot(df['Date'].values[training_data_len:], test_values)\n",
    "plt.plot(df['Date'].values[training_data_len:], model_predictions)\n",
    "plt.legend(['Training', 'Testing', 'Predictions'], loc = 'lower right')\n",
    "plt.show"
   ]
  },
  {
   "cell_type": "code",
   "execution_count": 11,
   "id": "db028f18",
   "metadata": {},
   "outputs": [
    {
     "data": {
      "text/html": [
       "<div>\n",
       "<style scoped>\n",
       "    .dataframe tbody tr th:only-of-type {\n",
       "        vertical-align: middle;\n",
       "    }\n",
       "\n",
       "    .dataframe tbody tr th {\n",
       "        vertical-align: top;\n",
       "    }\n",
       "\n",
       "    .dataframe thead th {\n",
       "        text-align: right;\n",
       "    }\n",
       "</style>\n",
       "<table border=\"1\" class=\"dataframe\">\n",
       "  <thead>\n",
       "    <tr style=\"text-align: right;\">\n",
       "      <th></th>\n",
       "      <th>Date</th>\n",
       "      <th>Testing</th>\n",
       "      <th>Predictions</th>\n",
       "    </tr>\n",
       "  </thead>\n",
       "  <tbody>\n",
       "    <tr>\n",
       "      <th>0</th>\n",
       "      <td>2021-05-07</td>\n",
       "      <td>57356.401877</td>\n",
       "      <td>57261.496094</td>\n",
       "    </tr>\n",
       "    <tr>\n",
       "      <th>1</th>\n",
       "      <td>2021-05-08</td>\n",
       "      <td>58803.775809</td>\n",
       "      <td>57634.257812</td>\n",
       "    </tr>\n",
       "    <tr>\n",
       "      <th>2</th>\n",
       "      <td>2021-05-09</td>\n",
       "      <td>58232.316142</td>\n",
       "      <td>58559.781250</td>\n",
       "    </tr>\n",
       "    <tr>\n",
       "      <th>3</th>\n",
       "      <td>2021-05-10</td>\n",
       "      <td>55859.797545</td>\n",
       "      <td>59134.109375</td>\n",
       "    </tr>\n",
       "    <tr>\n",
       "      <th>4</th>\n",
       "      <td>2021-05-11</td>\n",
       "      <td>56704.573058</td>\n",
       "      <td>58521.335938</td>\n",
       "    </tr>\n",
       "    <tr>\n",
       "      <th>...</th>\n",
       "      <td>...</td>\n",
       "      <td>...</td>\n",
       "      <td>...</td>\n",
       "    </tr>\n",
       "    <tr>\n",
       "      <th>727</th>\n",
       "      <td>2023-05-04</td>\n",
       "      <td>28847.711591</td>\n",
       "      <td>29835.291016</td>\n",
       "    </tr>\n",
       "    <tr>\n",
       "      <th>728</th>\n",
       "      <td>2023-05-05</td>\n",
       "      <td>29534.384020</td>\n",
       "      <td>29794.185547</td>\n",
       "    </tr>\n",
       "    <tr>\n",
       "      <th>729</th>\n",
       "      <td>2023-05-06</td>\n",
       "      <td>28904.623949</td>\n",
       "      <td>29982.103516</td>\n",
       "    </tr>\n",
       "    <tr>\n",
       "      <th>730</th>\n",
       "      <td>2023-05-07</td>\n",
       "      <td>28454.978286</td>\n",
       "      <td>30012.871094</td>\n",
       "    </tr>\n",
       "    <tr>\n",
       "      <th>731</th>\n",
       "      <td>2023-05-08</td>\n",
       "      <td>27694.272896</td>\n",
       "      <td>29849.269531</td>\n",
       "    </tr>\n",
       "  </tbody>\n",
       "</table>\n",
       "<p>732 rows × 3 columns</p>\n",
       "</div>"
      ],
      "text/plain": [
       "          Date       Testing   Predictions\n",
       "0   2021-05-07  57356.401877  57261.496094\n",
       "1   2021-05-08  58803.775809  57634.257812\n",
       "2   2021-05-09  58232.316142  58559.781250\n",
       "3   2021-05-10  55859.797545  59134.109375\n",
       "4   2021-05-11  56704.573058  58521.335938\n",
       "..         ...           ...           ...\n",
       "727 2023-05-04  28847.711591  29835.291016\n",
       "728 2023-05-05  29534.384020  29794.185547\n",
       "729 2023-05-06  28904.623949  29982.103516\n",
       "730 2023-05-07  28454.978286  30012.871094\n",
       "731 2023-05-08  27694.272896  29849.269531\n",
       "\n",
       "[732 rows x 3 columns]"
      ]
     },
     "execution_count": 11,
     "metadata": {},
     "output_type": "execute_result"
    }
   ],
   "source": [
    "# Show Predicted prices\n",
    "prediction_data = pd.DataFrame()\n",
    "prediction_data['Date'] = df['Date'].values[training_data_len:]\n",
    "prediction_data['Testing'] = test_values\n",
    "prediction_data['Predictions'] = model_predictions\n",
    "\n",
    "prediction_data\n"
   ]
  },
  {
   "cell_type": "code",
   "execution_count": null,
   "id": "c1de1979",
   "metadata": {},
   "outputs": [],
   "source": []
  }
 ],
 "metadata": {
  "kernelspec": {
   "display_name": "Python 3 (ipykernel)",
   "language": "python",
   "name": "python3"
  },
  "language_info": {
   "codemirror_mode": {
    "name": "ipython",
    "version": 3
   },
   "file_extension": ".py",
   "mimetype": "text/x-python",
   "name": "python",
   "nbconvert_exporter": "python",
   "pygments_lexer": "ipython3",
   "version": "3.9.12"
  }
 },
 "nbformat": 4,
 "nbformat_minor": 5
}
